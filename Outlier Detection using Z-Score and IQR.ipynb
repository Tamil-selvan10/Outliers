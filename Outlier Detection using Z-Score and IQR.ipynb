{
 "cells": [
  {
   "cell_type": "markdown",
   "id": "f757835f",
   "metadata": {},
   "source": [
    "### Outlier\n",
    "\n",
    "- An outlier is a value that is very different from the other data in a dataset."
   ]
  },
  {
   "cell_type": "markdown",
   "id": "984bdc33",
   "metadata": {},
   "source": [
    "### What are the methods and criteria to identify an outlier?\n",
    "\n",
    "1.Z-Score\n",
    "  - Data point that falls outside of 3 standard deviations is considered as outliers.\n",
    "    \n",
    "2.IQR    \n",
    "  - Data point that falls outside of 1.5 times of an interquartile range above the 3rd quartile and below the 1st quartile is considered as outliers.\n"
   ]
  },
  {
   "cell_type": "markdown",
   "id": "fb5fa503",
   "metadata": {},
   "source": [
    "### What is the reason for an outlier to exists in a dataset?\n",
    "\n",
    "1. Variability in the data\n",
    "2. An experimental measurement error"
   ]
  },
  {
   "cell_type": "markdown",
   "id": "cf9e73e1",
   "metadata": {},
   "source": [
    "### What are the impacts of having outliers in a dataset?\n",
    "\n",
    "1. It causes various problems during our statistical analysis\n",
    "2. It may cause a significant impact on the mean and the standard deviation\n"
   ]
  },
  {
   "cell_type": "markdown",
   "id": "de2a8a33",
   "metadata": {},
   "source": [
    "### Various ways of finding the outlier.\n",
    "1. Using scatter plots\n",
    "2. Box plot\n",
    "3. using z score\n",
    "4. using the IQR interquantile range\n"
   ]
  },
  {
   "cell_type": "code",
   "execution_count": 1,
   "id": "a0f2d8eb",
   "metadata": {},
   "outputs": [],
   "source": [
    "dataset=[1,2,2,2,3,3,4,5,5,5,6,6,6,6,7,8,8,9,27]"
   ]
  },
  {
   "cell_type": "code",
   "execution_count": 2,
   "id": "64acd43d",
   "metadata": {},
   "outputs": [],
   "source": [
    "import numpy as np\n",
    "import matplotlib.pyplot as plt"
   ]
  },
  {
   "cell_type": "markdown",
   "id": "d1e39a7b",
   "metadata": {},
   "source": [
    "## Method 1: Detecting outlier using Z score\n",
    "\n",
    "### Using Z score\n",
    "\n",
    "Formula for Z score = (Observation — Mean)/Standard Deviation\n",
    "\n",
    "z = (X — μ) / σ"
   ]
  },
  {
   "cell_type": "code",
   "execution_count": 3,
   "id": "f3cc5469",
   "metadata": {},
   "outputs": [],
   "source": [
    "def detect_outliers(data):\n",
    "    \n",
    "    threshold=3\n",
    "    mean=np.mean(data)\n",
    "    std=np.std(data)\n",
    "    \n",
    "    outliers=list()    \n",
    "    \n",
    "    for i in data:        \n",
    "        z=(i-mean)/std        \n",
    "        if np.abs(z)>threshold:\n",
    "            outliers.append(i)\n",
    "            \n",
    "    print(f'Data:{data}')\n",
    "    print(f'Outliers:{outliers}')\n",
    "    \n",
    "    return outliers"
   ]
  },
  {
   "cell_type": "code",
   "execution_count": 4,
   "id": "859c6fff",
   "metadata": {},
   "outputs": [
    {
     "name": "stdout",
     "output_type": "stream",
     "text": [
      "Data:[1, 2, 2, 2, 3, 3, 4, 5, 5, 5, 6, 6, 6, 6, 7, 8, 8, 9, 27]\n",
      "Outliers:[27]\n"
     ]
    },
    {
     "data": {
      "text/plain": [
       "[27]"
      ]
     },
     "execution_count": 4,
     "metadata": {},
     "output_type": "execute_result"
    }
   ],
   "source": [
    "detect_outliers(data=dataset)"
   ]
  },
  {
   "cell_type": "markdown",
   "id": "36d53cfa",
   "metadata": {},
   "source": [
    "#### Method 2: Detecting outlier using IQR\n",
    "\n",
    "##### Steps:\n",
    "1.Arrange the data in ascending order\n",
    "\n",
    "2.Find the First quartile (Q1) and Third quartile (Q3)\n",
    "\n",
    "3.Find the IQR. IQR=Q3-Q1\n",
    "\n",
    "4.Find the lower fence and upper bence\n",
    "  - lower fence=Q1-(1.5*IQR)\n",
    "  - upper fence=Q3+(1.5*IQR)"
   ]
  },
  {
   "cell_type": "code",
   "execution_count": 5,
   "id": "c92c3c0e",
   "metadata": {},
   "outputs": [
    {
     "data": {
      "text/plain": [
       "[1, 2, 2, 2, 3, 3, 4, 5, 5, 5, 6, 6, 6, 6, 7, 8, 8, 9, 27]"
      ]
     },
     "execution_count": 5,
     "metadata": {},
     "output_type": "execute_result"
    }
   ],
   "source": [
    "# Arrange the data in ascending order\n",
    "dataset.sort(reverse=False)#ASC\n",
    "dataset"
   ]
  },
  {
   "cell_type": "code",
   "execution_count": 6,
   "id": "e155e08f",
   "metadata": {},
   "outputs": [
    {
     "name": "stdout",
     "output_type": "stream",
     "text": [
      "q1:3.0\n",
      "q3:6.5\n"
     ]
    }
   ],
   "source": [
    "# Find the First quartile (Q1) and Third quartile (Q3)\n",
    "q1=np.percentile(dataset,25)\n",
    "q3=np.percentile(dataset,75)\n",
    "print(f'q1:{q1}')\n",
    "print(f'q3:{q3}')"
   ]
  },
  {
   "cell_type": "code",
   "execution_count": 7,
   "id": "87f47dc7",
   "metadata": {},
   "outputs": [
    {
     "name": "stdout",
     "output_type": "stream",
     "text": [
      "IQR:3.5\n"
     ]
    }
   ],
   "source": [
    "# Find the IQR. IQR=Q3-Q1\n",
    "IQR=q3-q1\n",
    "print(f'IQR:{IQR}')"
   ]
  },
  {
   "cell_type": "code",
   "execution_count": 8,
   "id": "688ac70b",
   "metadata": {},
   "outputs": [
    {
     "name": "stdout",
     "output_type": "stream",
     "text": [
      "lower fence:-2.25\n",
      "upper fence:11.75\n"
     ]
    }
   ],
   "source": [
    "# Find the lower fence and upper bence\n",
    "lower_fence=q1-(1.5*IQR)\n",
    "upper_fence=q3+(1.5*IQR)\n",
    "\n",
    "print(f'lower fence:{lower_fence}')\n",
    "print(f'upper fence:{upper_fence}')"
   ]
  },
  {
   "cell_type": "code",
   "execution_count": 9,
   "id": "5814292f",
   "metadata": {},
   "outputs": [],
   "source": [
    "def detect_outliers_iqr(lower_fence,upper_fence,data):\n",
    "    outliers=list()\n",
    "    for i in data:\n",
    "        if i<lower_fence or i>upper_fence:\n",
    "            outliers.append(i)\n",
    "    print(f'Data:{data}')\n",
    "    print(f'outliers:{outliers}')\n",
    "    return outliers  "
   ]
  },
  {
   "cell_type": "code",
   "execution_count": 10,
   "id": "141077c9",
   "metadata": {},
   "outputs": [
    {
     "name": "stdout",
     "output_type": "stream",
     "text": [
      "Data:[1, 2, 2, 2, 3, 3, 4, 5, 5, 5, 6, 6, 6, 6, 7, 8, 8, 9, 27]\n",
      "outliers:[27]\n"
     ]
    },
    {
     "data": {
      "text/plain": [
       "[27]"
      ]
     },
     "execution_count": 10,
     "metadata": {},
     "output_type": "execute_result"
    }
   ],
   "source": [
    "detect_outliers_iqr(lower_fence,upper_fence,dataset)"
   ]
  },
  {
   "cell_type": "markdown",
   "id": "d1342b65",
   "metadata": {},
   "source": [
    "#####  boxplot"
   ]
  },
  {
   "cell_type": "code",
   "execution_count": 11,
   "id": "ad8f141d",
   "metadata": {},
   "outputs": [
    {
     "data": {
      "text/plain": [
       "<Axes: >"
      ]
     },
     "execution_count": 11,
     "metadata": {},
     "output_type": "execute_result"
    },
    {
     "data": {
      "image/png": "[encoded data removed]",
      "text/plain": [
       "<Figure size 640x480 with 1 Axes>"
      ]
     },
     "metadata": {},
     "output_type": "display_data"
    }
   ],
   "source": [
    "import seaborn as sns\n",
    "sns.boxplot(data=dataset)"
   ]
  },
  {
   "cell_type": "markdown",
   "id": "c5642140",
   "metadata": {},
   "source": [
    "#### scatterplot"
   ]
  },
  {
   "cell_type": "code",
   "execution_count": 12,
   "id": "d2a67e8c",
   "metadata": {},
   "outputs": [
    {
     "data": {
      "text/plain": [
       "<Axes: >"
      ]
     },
     "execution_count": 12,
     "metadata": {},
     "output_type": "execute_result"
    },
    {
     "data": {
      "image/png": "[encoded data removed]",
      "text/plain": [
       "<Figure size 640x480 with 1 Axes>"
      ]
     },
     "metadata": {},
     "output_type": "display_data"
    }
   ],
   "source": [
    "import seaborn as sns\n",
    "sns.scatterplot(data=dataset)"
   ]
  },
  {
   "cell_type": "code",
   "execution_count": null,
   "id": "9c8ad5ae",
   "metadata": {},
   "outputs": [],
   "source": []
  }
 ],
 "metadata": {
  "kernelspec": {
   "display_name": "Python 3 (ipykernel)",
   "language": "python",
   "name": "python3"
  },
  "language_info": {
   "codemirror_mode": {
    "name": "ipython",
    "version": 3
   },
   "file_extension": ".py",
   "mimetype": "text/x-python",
   "name": "python",
   "nbconvert_exporter": "python",
   "pygments_lexer": "ipython3",
   "version": "3.10.9"
  }
 },
 "nbformat": 4,
 "nbformat_minor": 5
}
